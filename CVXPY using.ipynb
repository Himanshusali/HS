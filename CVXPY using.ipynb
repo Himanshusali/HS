{
 "cells": [
  {
   "cell_type": "code",
   "execution_count": 6,
   "metadata": {},
   "outputs": [
    {
     "name": "stdout",
     "output_type": "stream",
     "text": [
      "Note: you may need to restart the kernel to use updated packages.\n",
      "Requirement already satisfied: gurobipy in c:\\users\\himan\\appdata\\local\\packages\\pythonsoftwarefoundation.python.3.11_qbz5n2kfra8p0\\localcache\\local-packages\\python311\\site-packages (12.0.0)\n"
     ]
    },
    {
     "name": "stderr",
     "output_type": "stream",
     "text": [
      "\n",
      "[notice] A new release of pip is available: 24.2 -> 25.0.1\n",
      "[notice] To update, run: C:\\Users\\himan\\AppData\\Local\\Microsoft\\WindowsApps\\PythonSoftwareFoundation.Python.3.11_qbz5n2kfra8p0\\python.exe -m pip install --upgrade pip\n"
     ]
    }
   ],
   "source": [
    "pip install gurobipy\n"
   ]
  },
  {
   "cell_type": "code",
   "execution_count": 7,
   "metadata": {},
   "outputs": [
    {
     "name": "stdout",
     "output_type": "stream",
     "text": [
      "Restricted license - for non-production use only - expires 2026-11-23\n",
      "Gurobi is installed and working!\n"
     ]
    }
   ],
   "source": [
    "from gurobipy import Model\n",
    "model = Model()\n",
    "print(\"Gurobi is installed and working!\")\n"
   ]
  },
  {
   "cell_type": "code",
   "execution_count": 8,
   "metadata": {},
   "outputs": [
    {
     "name": "stdout",
     "output_type": "stream",
     "text": [
      "cp type: <class 'float'>\n"
     ]
    }
   ],
   "source": [
    "print(f\"cp type: {type(cp)}\")"
   ]
  },
  {
   "cell_type": "code",
   "execution_count": 9,
   "metadata": {},
   "outputs": [],
   "source": [
    "cp = 3.14  # This would overwrite cvxpy import"
   ]
  },
  {
   "cell_type": "code",
   "execution_count": 10,
   "metadata": {},
   "outputs": [
    {
     "name": "stdout",
     "output_type": "stream",
     "text": [
      "cp type: <class 'module'>\n"
     ]
    }
   ],
   "source": [
    "import cvxpy as cp\n",
    "\n",
    "print(f\"cp type: {type(cp)}\")  # Should show <class 'cvxpy.__init__.py'>\n"
   ]
  },
  {
   "cell_type": "code",
   "execution_count": 11,
   "metadata": {},
   "outputs": [
    {
     "name": "stdout",
     "output_type": "stream",
     "text": [
      "Optimal value of x: [3.04802017e-10 3.04802017e-10 3.04802017e-10 3.04802017e-10\n",
      " 3.04802017e-10 3.04802017e-10 3.04802017e-10 3.04802017e-10\n",
      " 3.04802017e-10 3.04802017e-10]\n"
     ]
    }
   ],
   "source": [
    "import cvxpy as cp\n",
    "import numpy as np\n",
    "\n",
    "# Define the number of variables (n)\n",
    "n = 10\n",
    "\n",
    "# Create cvxpy variables\n",
    "x = cp.Variable(n)\n",
    "Tbuffer = cp.Variable(n)\n",
    "\n",
    "# Example constraint\n",
    "constraints = [x >= 0, x <= 10]  # x should be between 0 and 10\n",
    "\n",
    "# Example objective function\n",
    "objective = cp.Minimize(cp.sum(x))\n",
    "\n",
    "# Define the problem\n",
    "problem = cp.Problem(objective, constraints)\n",
    "\n",
    "# Solve the problem\n",
    "problem.solve()\n",
    "\n",
    "# Display the result\n",
    "print(f\"Optimal value of x: {x.value}\")"
   ]
  },
  {
   "cell_type": "code",
   "execution_count": 12,
   "metadata": {},
   "outputs": [
    {
     "name": "stdout",
     "output_type": "stream",
     "text": [
      "<class 'pandas.core.frame.DataFrame'>\n",
      "Index: 8760 entries, 2021-01-01 00:00:00 to 2021-12-31 23:00:00\n",
      "Data columns (total 3 columns):\n",
      " #   Column     Non-Null Count  Dtype  \n",
      "---  ------     --------------  -----  \n",
      " 0   Tout       8760 non-null   float64\n",
      " 1   Qhouse     8760 non-null   float64\n",
      " 2   Price el.  8760 non-null   float64\n",
      "dtypes: float64(3)\n",
      "memory usage: 273.8+ KB\n"
     ]
    },
    {
     "ename": "AttributeError",
     "evalue": "'float' object has no attribute 'Variable'",
     "output_type": "error",
     "traceback": [
      "\u001b[1;31m---------------------------------------------------------------------------\u001b[0m",
      "\u001b[1;31mAttributeError\u001b[0m                            Traceback (most recent call last)",
      "Cell \u001b[1;32mIn[12], line 48\u001b[0m\n\u001b[0;32m     45\u001b[0m bounds \u001b[38;5;241m=\u001b[39m [(\u001b[38;5;241m0\u001b[39m, Pth)] \u001b[38;5;241m*\u001b[39m n \u001b[38;5;241m+\u001b[39m [(Tflow[i]\u001b[38;5;241m.\u001b[39mitem(), Tmax) \u001b[38;5;28;01mfor\u001b[39;00m i \u001b[38;5;129;01min\u001b[39;00m \u001b[38;5;28mrange\u001b[39m(n)]\n\u001b[0;32m     47\u001b[0m \u001b[38;5;66;03m# Create cvxpy variables for optimization\u001b[39;00m\n\u001b[1;32m---> 48\u001b[0m x \u001b[38;5;241m=\u001b[39m \u001b[43mcp\u001b[49m\u001b[38;5;241;43m.\u001b[39;49m\u001b[43mVariable\u001b[49m(n)  \u001b[38;5;66;03m# Ensure cvxpy is being used here\u001b[39;00m\n\u001b[0;32m     49\u001b[0m Tbuffer \u001b[38;5;241m=\u001b[39m cp\u001b[38;5;241m.\u001b[39mVariable(n)\n\u001b[0;32m     51\u001b[0m \u001b[38;5;66;03m# Define the cost function and constraints\u001b[39;00m\n",
      "\u001b[1;31mAttributeError\u001b[0m: 'float' object has no attribute 'Variable'"
     ]
    }
   ],
   "source": [
    "import pandas as pd\n",
    "import numpy as np\n",
    "import cvxpy as cp  # Ensure cvxpy is imported correctly\n",
    "import time\n",
    "# Import everything from BasicDefinitions.py (adjust as needed)\n",
    "from BasicDefinitions import *\n",
    "\n",
    "# Read Data file - one year\n",
    "df = pd.read_csv(\"YearHourly.csv\", header=None, index_col=0)\n",
    "df.columns = [\"Tout\", \"Qhouse\", \"Price el.\"]\n",
    "df.index.name = \"Time\"\n",
    "df.info()\n",
    "\n",
    "Tout = df[\"Tout\"].to_numpy()\n",
    "Tflow = fTflow(Tout)\n",
    "\n",
    "Qhouse = df[\"Qhouse\"].to_numpy()\n",
    "p = df[\"Price el.\"]\n",
    "n = p.size\n",
    "\n",
    "# Elemenatary matrices, like in Octave BasicDefinitions.m\n",
    "E = np.eye(n)\n",
    "Z = np.zeros_like(E)\n",
    "S = np.tril(np.ones_like(E), 0)\n",
    "\n",
    "# Matrices for the linear problem, see report\n",
    "M = S / C\n",
    "r = Tinit - np.matmul(S, Qhouse) / C\n",
    "\n",
    "# Equality constraint for calculating Tbuffer\n",
    "AE = np.hstack((-M, E))\n",
    "bE = r\n",
    "\n",
    "# Produce enough energy (Upper bound)\n",
    "A_up = -np.hstack((np.ones(shape=(1, n)), np.zeros(shape=(1, n))))\n",
    "b_up = -Qhouse.sum()\n",
    "\n",
    "# Cost vector \n",
    "a = 3\n",
    "cel = p / CoP(Tout, Tflow)\n",
    "cte = p / CoP(Tout, Tflow + 1) - p / CoP(Tout, Tflow)\n",
    "c = np.hstack((cel, a * cte))\n",
    "\n",
    " #Bounds, x in [0,1], Tbuffer in [Tflow, Tmax]\n",
    "bounds = [(0, Pth)] * n + [(Tflow[i].item(), Tmax) for i in range(n)]\n",
    "\n",
    "# Create cvxpy variables for optimization\n",
    "x = cp.Variable(n)  # Ensure cvxpy is being used here\n",
    "Tbuffer = cp.Variable(n)\n",
    "\n",
    "# Define the cost function and constraints\n",
    "cost = cp.sum(c * x)  # Assuming the cost is linear in terms of x\n",
    "constraints = [\n",
    "    AE @ cp.hstack([x, Tbuffer]) == bE,  # Equality constraint\n",
    "    A_up @ cp.hstack([x, Tbuffer]) <= b_up,  # Upper bound energy constraint\n",
    "    x >= 0, x <= 1,  # Bounds on x\n",
    "    Tbuffer >= Tflow, Tbuffer <= Tmax  # Bounds on Tbuffer\n",
    "]\n",
    "\n",
    "# Create problem\n",
    "problem = cp.Problem(cp.Minimize(cost), constraints)\n",
    "\n",
    "# Solve the problem using different solvers\n",
    "start_time = time.time()\n",
    "\n",
    "# Choose solver for performance\n",
    "solver = cp.ECOS  # You can replace with other solvers like cp.SCS, cp.GUROBI, cp.MOSEK\n",
    "problem.solve(solver=solver)\n",
    "\n",
    "# Output results\n",
    "end_time = time.time()\n",
    "print(f\"Optimization completed in {end_time - start_time:.2f} seconds using {solver}\")\n",
    "print(f\"Optimal solution for x: {x.value}\")\n",
    "print(f\"Optimal solution for Tbuffer: {Tbuffer.value}\")\n",
    "\n",
    "# Reference Costs for demand-driven solution\n",
    "print(f\"Costs demand-driven solution {cel.dot(Qhouse):.2f} €\")\n"
   ]
  },
  {
   "cell_type": "code",
   "execution_count": null,
   "metadata": {},
   "outputs": [
    {
     "name": "stdout",
     "output_type": "stream",
     "text": [
      "cp type: <class 'float'>\n"
     ]
    }
   ],
   "source": [
    "print(f\"cp type: {type(cp)}\")\n"
   ]
  },
  {
   "cell_type": "code",
   "execution_count": null,
   "metadata": {},
   "outputs": [],
   "source": [
    "cp = 3.14  # This would overwrite cvxpy import\n"
   ]
  },
  {
   "cell_type": "code",
   "execution_count": null,
   "metadata": {},
   "outputs": [
    {
     "name": "stdout",
     "output_type": "stream",
     "text": [
      "cp type: <class 'module'>\n"
     ]
    }
   ],
   "source": [
    "import cvxpy as cp\n",
    "\n",
    "print(f\"cp type: {type(cp)}\")  # Should show <class 'cvxpy.__init__.py'>\n"
   ]
  },
  {
   "cell_type": "code",
   "execution_count": null,
   "metadata": {},
   "outputs": [
    {
     "name": "stdout",
     "output_type": "stream",
     "text": [
      "Optimal value of x: [3.04802017e-10 3.04802017e-10 3.04802017e-10 3.04802017e-10\n",
      " 3.04802017e-10 3.04802017e-10 3.04802017e-10 3.04802017e-10\n",
      " 3.04802017e-10 3.04802017e-10]\n"
     ]
    }
   ],
   "source": [
    "import cvxpy as cp\n",
    "import numpy as np\n",
    "\n",
    "# Define the number of variables (n)\n",
    "n = 10\n",
    "\n",
    "# Create cvxpy variables\n",
    "x = cp.Variable(n)\n",
    "Tbuffer = cp.Variable(n)\n",
    "\n",
    "# Example constraint\n",
    "constraints = [x >= 0, x <= 10]  # x should be between 0 and 10\n",
    "\n",
    "# Example objective function\n",
    "objective = cp.Minimize(cp.sum(x))\n",
    "\n",
    "# Define the problem\n",
    "problem = cp.Problem(objective, constraints)\n",
    "\n",
    "# Solve the problem\n",
    "problem.solve()\n",
    "\n",
    "# Display the result\n",
    "print(f\"Optimal value of x: {x.value}\")\n"
   ]
  },
  {
   "cell_type": "code",
   "execution_count": null,
   "metadata": {},
   "outputs": [
    {
     "name": "stderr",
     "output_type": "stream",
     "text": [
      "C:\\Users\\himan\\AppData\\Local\\Packages\\PythonSoftwareFoundation.Python.3.11_qbz5n2kfra8p0\\LocalCache\\local-packages\\Python311\\site-packages\\cvxpy\\expressions\\expression.py:650: UserWarning: \n",
      "This use of ``*`` has resulted in matrix multiplication.\n",
      "Using ``*`` for matrix multiplication has been deprecated since CVXPY 1.1.\n",
      "    Use ``*`` for matrix-scalar and vector-scalar multiplication.\n",
      "    Use ``@`` for matrix-matrix and matrix-vector multiplication.\n",
      "    Use ``multiply`` for elementwise multiplication.\n",
      "This code path has been hit 8 times so far.\n",
      "\n",
      "  warnings.warn(msg, UserWarning)\n"
     ]
    },
    {
     "ename": "RuntimeError",
     "evalue": "\nYou're calling a NumPy function on a CVXPY expression. This is prone to causing\nerrors or code that doesn't behave as expected. Consider using one of the\nfunctions documented here: https://www.cvxpy.org/tutorial/functions/index.html\n",
     "output_type": "error",
     "traceback": [
      "\u001b[1;31m---------------------------------------------------------------------------\u001b[0m",
      "\u001b[1;31mRuntimeError\u001b[0m                              Traceback (most recent call last)",
      "Cell \u001b[1;32mIn[137], line 1\u001b[0m\n\u001b[1;32m----> 1\u001b[0m cost \u001b[38;5;241m=\u001b[39m cp\u001b[38;5;241m.\u001b[39msum(price_el \u001b[38;5;241m*\u001b[39m P_hp \u001b[38;5;241m/\u001b[39m \u001b[43mCoP\u001b[49m\u001b[43m(\u001b[49m\u001b[43mTout\u001b[49m\u001b[43m,\u001b[49m\u001b[43m \u001b[49m\u001b[43mT_buffer\u001b[49m\u001b[43m)\u001b[49m)  \u001b[38;5;66;03m# Total energy cost\u001b[39;00m\n",
      "File \u001b[1;32md:\\thesis\\LinearExample\\BasicDefinitions.py:25\u001b[0m, in \u001b[0;36m<lambda>\u001b[1;34m(Tcold, Thot)\u001b[0m\n\u001b[0;32m     23\u001b[0m eta   \u001b[38;5;241m=\u001b[39m \u001b[38;5;241m0.35\u001b[39m\n\u001b[0;32m     24\u001b[0m \u001b[38;5;66;03m# CoP formula, all temperatures in °C, can be uses with vectors or floats\u001b[39;00m\n\u001b[1;32m---> 25\u001b[0m CoP   \u001b[38;5;241m=\u001b[39m \u001b[38;5;28;01mlambda\u001b[39;00m Tcold,Thot: np\u001b[38;5;241m.\u001b[39mminimum(\u001b[38;5;241m6\u001b[39m,eta\u001b[38;5;241m*\u001b[39m(\u001b[38;5;241m273.1\u001b[39m\u001b[38;5;241m+\u001b[39mThot)\u001b[38;5;241m/\u001b[39m\u001b[43mnp\u001b[49m\u001b[38;5;241;43m.\u001b[39;49m\u001b[43mmaximum\u001b[49m\u001b[43m(\u001b[49m\u001b[43mThot\u001b[49m\u001b[38;5;241;43m-\u001b[39;49m\u001b[43mTcold\u001b[49m\u001b[43m,\u001b[49m\u001b[38;5;241;43m1\u001b[39;49m\u001b[43m)\u001b[49m)\n\u001b[0;32m     26\u001b[0m \u001b[38;5;66;03m#CoP(Tout,35)\u001b[39;00m\n\u001b[0;32m     27\u001b[0m \n\u001b[0;32m     28\u001b[0m \u001b[38;5;66;03m# Flow temperature of the floor heating system (heating curve)\u001b[39;00m\n\u001b[0;32m     29\u001b[0m \u001b[38;5;66;03m# Estimate flow temperature\u001b[39;00m\n\u001b[0;32m     30\u001b[0m \u001b[38;5;66;03m# See MeinHausTagEinfach and master thesis Katodia, linear model for flow temp.\u001b[39;00m\n\u001b[0;32m     31\u001b[0m \u001b[38;5;66;03m# As function of outside Temperature\u001b[39;00m\n\u001b[0;32m     32\u001b[0m \u001b[38;5;28;01mdef\u001b[39;00m \u001b[38;5;21mfTflow\u001b[39m(Tout):\n",
      "File \u001b[1;32m~\\AppData\\Local\\Packages\\PythonSoftwareFoundation.Python.3.11_qbz5n2kfra8p0\\LocalCache\\local-packages\\Python311\\site-packages\\cvxpy\\expressions\\expression.py:789\u001b[0m, in \u001b[0;36mExpression.__array_ufunc__\u001b[1;34m(self, ufunc, method, *args, **kwargs)\u001b[0m\n\u001b[0;32m    786\u001b[0m \u001b[38;5;28;01mexcept\u001b[39;00m \u001b[38;5;167;01mKeyError\u001b[39;00m:\n\u001b[0;32m    787\u001b[0m     \u001b[38;5;28;01mpass\u001b[39;00m\n\u001b[1;32m--> 789\u001b[0m \u001b[38;5;28;01mraise\u001b[39;00m \u001b[38;5;167;01mRuntimeError\u001b[39;00m(__NUMPY_UFUNC_ERROR__)\n",
      "\u001b[1;31mRuntimeError\u001b[0m: \nYou're calling a NumPy function on a CVXPY expression. This is prone to causing\nerrors or code that doesn't behave as expected. Consider using one of the\nfunctions documented here: https://www.cvxpy.org/tutorial/functions/index.html\n"
     ]
    }
   ],
   "source": [
    "cost = cp.sum(price_el * P_hp / CoP(Tout, T_buffer))  # Total energy cost\n"
   ]
  },
  {
   "cell_type": "code",
   "execution_count": null,
   "metadata": {},
   "outputs": [
    {
     "name": "stdout",
     "output_type": "stream",
     "text": [
      "Requirement already satisfied: cvxpy in c:\\users\\himan\\appdata\\local\\packages\\pythonsoftwarefoundation.python.3.11_qbz5n2kfra8p0\\localcache\\local-packages\\python311\\site-packages (1.5.3)\n",
      "Requirement already satisfied: osqp>=0.6.2 in c:\\users\\himan\\appdata\\local\\packages\\pythonsoftwarefoundation.python.3.11_qbz5n2kfra8p0\\localcache\\local-packages\\python311\\site-packages (from cvxpy) (0.6.7.post3)\n",
      "Requirement already satisfied: ecos>=2 in c:\\users\\himan\\appdata\\local\\packages\\pythonsoftwarefoundation.python.3.11_qbz5n2kfra8p0\\localcache\\local-packages\\python311\\site-packages (from cvxpy) (2.0.14)\n",
      "Requirement already satisfied: clarabel>=0.5.0 in c:\\users\\himan\\appdata\\local\\packages\\pythonsoftwarefoundation.python.3.11_qbz5n2kfra8p0\\localcache\\local-packages\\python311\\site-packages (from cvxpy) (0.9.0)\n",
      "Requirement already satisfied: scs>=3.2.4.post1 in c:\\users\\himan\\appdata\\local\\packages\\pythonsoftwarefoundation.python.3.11_qbz5n2kfra8p0\\localcache\\local-packages\\python311\\site-packages (from cvxpy) (3.2.7)\n",
      "Requirement already satisfied: numpy>=1.15 in c:\\users\\himan\\appdata\\local\\packages\\pythonsoftwarefoundation.python.3.11_qbz5n2kfra8p0\\localcache\\local-packages\\python311\\site-packages (from cvxpy) (1.23.5)\n",
      "Requirement already satisfied: scipy>=1.1.0 in c:\\users\\himan\\appdata\\local\\packages\\pythonsoftwarefoundation.python.3.11_qbz5n2kfra8p0\\localcache\\local-packages\\python311\\site-packages (from cvxpy) (1.10.1)\n",
      "Requirement already satisfied: qdldl in c:\\users\\himan\\appdata\\local\\packages\\pythonsoftwarefoundation.python.3.11_qbz5n2kfra8p0\\localcache\\local-packages\\python311\\site-packages (from osqp>=0.6.2->cvxpy) (0.1.7.post4)\n",
      "Note: you may need to restart the kernel to use updated packages.\n"
     ]
    },
    {
     "name": "stderr",
     "output_type": "stream",
     "text": [
      "\n",
      "[notice] A new release of pip is available: 24.2 -> 25.0\n",
      "[notice] To update, run: C:\\Users\\himan\\AppData\\Local\\Microsoft\\WindowsApps\\PythonSoftwareFoundation.Python.3.11_qbz5n2kfra8p0\\python.exe -m pip install --upgrade pip\n"
     ]
    }
   ],
   "source": [
    "pip install cvxpy"
   ]
  },
  {
   "cell_type": "code",
   "execution_count": null,
   "metadata": {},
   "outputs": [],
   "source": [
    "import cvxpy as cp"
   ]
  },
  {
   "cell_type": "code",
   "execution_count": null,
   "metadata": {},
   "outputs": [
    {
     "ename": "AttributeError",
     "evalue": "'float' object has no attribute 'Variable'",
     "output_type": "error",
     "traceback": [
      "\u001b[1;31m---------------------------------------------------------------------------\u001b[0m",
      "\u001b[1;31mAttributeError\u001b[0m                            Traceback (most recent call last)",
      "Cell \u001b[1;32mIn[18], line 30\u001b[0m\n\u001b[0;32m     27\u001b[0m r \u001b[38;5;241m=\u001b[39m Tinit \u001b[38;5;241m-\u001b[39m np\u001b[38;5;241m.\u001b[39mmatmul(S, Qhouse) \u001b[38;5;241m/\u001b[39m C\n\u001b[0;32m     29\u001b[0m \u001b[38;5;66;03m# Define variables\u001b[39;00m\n\u001b[1;32m---> 30\u001b[0m Qprod \u001b[38;5;241m=\u001b[39m \u001b[43mcp\u001b[49m\u001b[38;5;241;43m.\u001b[39;49m\u001b[43mVariable\u001b[49m(n)  \u001b[38;5;66;03m# Production of heat\u001b[39;00m\n\u001b[0;32m     31\u001b[0m Tbuffer \u001b[38;5;241m=\u001b[39m cp\u001b[38;5;241m.\u001b[39mVariable(n)  \u001b[38;5;66;03m# Buffer temperature\u001b[39;00m\n\u001b[0;32m     33\u001b[0m \u001b[38;5;66;03m# Cost vector\u001b[39;00m\n",
      "\u001b[1;31mAttributeError\u001b[0m: 'float' object has no attribute 'Variable'"
     ]
    }
   ],
   "source": [
    "import pandas as pd\n",
    "import numpy as np \n",
    "import matplotlib.pyplot as plt\n",
    "import cvxpy as cp  # Ensure this import is correct\n",
    "import time\n",
    "from BasicDefinitions import *\n",
    "\n",
    "# Read Data file - one year\n",
    "df = pd.read_csv(\"YearHourly.csv\", header=None, index_col=0)\n",
    "df.columns = [\"Tout\", \"Qhouse\", \"Price el.\"]\n",
    "df.index.name = \"Time\"\n",
    "\n",
    "# Convert columns to numpy arrays\n",
    "Tout = df[\"Tout\"].to_numpy()\n",
    "Tflow = fTflow(Tout)\n",
    "Qhouse = df[\"Qhouse\"].to_numpy()\n",
    "p = df[\"Price el.\"].to_numpy()\n",
    "n = p.size\n",
    "\n",
    "# Elementary matrices\n",
    "E = np.eye(n)\n",
    "Z = np.zeros_like(E)\n",
    "S = np.tril(np.ones_like(E), 0)\n",
    "\n",
    "# Matrices for the linear problem\n",
    "M = S / C \n",
    "r = Tinit - np.matmul(S, Qhouse) / C\n",
    "\n",
    "# Define variables\n",
    "Qprod = cp.Variable(n)  # Production of heat\n",
    "Tbuffer = cp.Variable(n)  # Buffer temperature\n",
    "\n",
    "# Cost vector\n",
    "a = 3\n",
    "cel = p / CoP(Tout, Tflow)\n",
    "cte = p / CoP(Tout, Tflow + 1) - p / CoP(Tout, Tflow)\n",
    "c = cp.hstack([cel, a * cte])\n",
    "\n",
    "# Objective function\n",
    "objective = cp.Minimize(c @ cp.hstack([Qprod, Tbuffer]))\n",
    "\n",
    "# Constraints\n",
    "constraints = [\n",
    "    -M @ Qprod + Tbuffer == r,  # Equality constraint for calculating Tbuffer\n",
    "    cp.sum(Qprod) >= Qhouse.sum(),  # Produce enough energy\n",
    "    0 <= Qprod, Qprod <= Pth,  # Bounds for Qprod\n",
    "    Tflow <= Tbuffer, Tbuffer <= Tmax  # Bounds for Tbuffer\n",
    "]\n",
    "\n",
    "# Solve the problem\n",
    "problem = cp.Problem(objective, constraints)\n",
    "start = time.time()\n",
    "problem.solve(solver=cp.ECOS)  # You can change the solver to CPLEX, GUROBI, etc., if available\n",
    "end = time.time()\n",
    "\n",
    "# Print results\n",
    "print(f\"Runtime linear solver {end - start:.2f} s\")\n",
    "print(f\"Costs including temperature costs {problem.value:.2f} €\")\n",
    "print(f\"Costs excluding temperature costs {cel @ Qprod.value:.2f} €\")\n",
    "\n",
    "# Extract data for later use\n",
    "Qprod_opt = Qprod.value\n",
    "Tbuffer_opt = Tbuffer.value\n",
    "\n",
    "# Show complete result\n",
    "print(\"Optimal Qprod:\", Qprod_opt)\n",
    "print(\"Optimal Tbuffer:\", Tbuffer_opt)"
   ]
  },
  {
   "cell_type": "code",
   "execution_count": null,
   "metadata": {},
   "outputs": [],
   "source": [
    "n = p.size  # This should be an integer"
   ]
  },
  {
   "cell_type": "code",
   "execution_count": null,
   "metadata": {},
   "outputs": [
    {
     "name": "stdout",
     "output_type": "stream",
     "text": [
      "<class 'float'>\n"
     ]
    }
   ],
   "source": [
    "print(type(cp))  # Should output <class 'module'>"
   ]
  },
  {
   "cell_type": "code",
   "execution_count": null,
   "metadata": {},
   "outputs": [
    {
     "name": "stdout",
     "output_type": "stream",
     "text": [
      "8760\n"
     ]
    }
   ],
   "source": [
    "print(n)  # Should output an integer"
   ]
  },
  {
   "cell_type": "code",
   "execution_count": null,
   "metadata": {},
   "outputs": [],
   "source": [
    "\n",
    "import os"
   ]
  },
  {
   "cell_type": "code",
   "execution_count": null,
   "metadata": {},
   "outputs": [],
   "source": [
    "os.environ[\"PATH\"] += os.pathsep + \"C:/glpk/bin\""
   ]
  },
  {
   "cell_type": "code",
   "execution_count": null,
   "metadata": {},
   "outputs": [],
   "source": [
    "import cvxpy as cp\n"
   ]
  },
  {
   "cell_type": "code",
   "execution_count": null,
   "metadata": {},
   "outputs": [
    {
     "name": "stdout",
     "output_type": "stream",
     "text": [
      "3.0\n"
     ]
    }
   ],
   "source": [
    "cp = ...\n",
    "cp = 3.0\n",
    "print(cp)"
   ]
  },
  {
   "cell_type": "code",
   "execution_count": null,
   "metadata": {},
   "outputs": [],
   "source": []
  },
  {
   "cell_type": "code",
   "execution_count": 1,
   "metadata": {},
   "outputs": [
    {
     "ename": "AttributeError",
     "evalue": "'float' object has no attribute 'Variable'",
     "output_type": "error",
     "traceback": [
      "\u001b[1;31m---------------------------------------------------------------------------\u001b[0m",
      "\u001b[1;31mAttributeError\u001b[0m                            Traceback (most recent call last)",
      "Cell \u001b[1;32mIn[1], line 23\u001b[0m\n\u001b[0;32m     20\u001b[0m cte \u001b[38;5;241m=\u001b[39m p \u001b[38;5;241m/\u001b[39m CoP(Tout, Tflow \u001b[38;5;241m+\u001b[39m \u001b[38;5;241m1\u001b[39m) \u001b[38;5;241m-\u001b[39m p \u001b[38;5;241m/\u001b[39m CoP(Tout, Tflow)\n\u001b[0;32m     22\u001b[0m \u001b[38;5;66;03m# CVXPY variables\u001b[39;00m\n\u001b[1;32m---> 23\u001b[0m Qprod \u001b[38;5;241m=\u001b[39m \u001b[43mcp\u001b[49m\u001b[38;5;241;43m.\u001b[39;49m\u001b[43mVariable\u001b[49m(n)\n\u001b[0;32m     24\u001b[0m Tbuffer \u001b[38;5;241m=\u001b[39m cp\u001b[38;5;241m.\u001b[39mVariable(n)\n\u001b[0;32m     26\u001b[0m \u001b[38;5;66;03m# Objective function\u001b[39;00m\n",
      "\u001b[1;31mAttributeError\u001b[0m: 'float' object has no attribute 'Variable'"
     ]
    }
   ],
   "source": [
    "import numpy as np\n",
    "import pandas as pd\n",
    "\n",
    "from BasicDefinitions import *\n",
    "\n",
    "# Load data\n",
    "df = pd.read_csv(\"YearHourly.csv\", header=None, index_col=0)\n",
    "df.columns = [\"Tout\", \"Qhouse\", \"Price el.\"]\n",
    "df.index.name = \"Time\"\n",
    "\n",
    "Tout = df[\"Tout\"].to_numpy()\n",
    "Tflow = fTflow(Tout)\n",
    "Qhouse = df[\"Qhouse\"].to_numpy()\n",
    "p = df[\"Price el.\"].to_numpy()\n",
    "n = p.size\n",
    "\n",
    "# Cost coefficients\n",
    "a = 3\n",
    "cel = p / CoP(Tout, Tflow)\n",
    "cte = p / CoP(Tout, Tflow + 1) - p / CoP(Tout, Tflow)\n",
    "\n",
    "# CVXPY variables\n",
    "Qprod = cp.Variable(n)\n",
    "Tbuffer = cp.Variable(n)\n",
    "\n",
    "# Objective function\n",
    "objective = cp.Minimize(cel @ Qprod + a * cp.sum(cte * (Tbuffer - Tflow)))\n",
    "\n",
    "# Constraints\n",
    "constraints = [\n",
    "    AE @ cp.hstack([Qprod, Tbuffer]) == bE,\n",
    "    A_up @ Qprod <= b_up,\n",
    "    Qprod >= 0,\n",
    "    Qprod <= Pth,\n",
    "    Tbuffer >= Tflow,\n",
    "    Tbuffer <= Tmax\n",
    "]\n",
    "\n",
    "# Solve problem\n",
    "problem = cp.Problem(objective, constraints)\n",
    "problem.solve(solver=cp.GLPK)\n",
    "\n",
    "# Evaluate solution\n",
    "Qprod_solution = Qprod.value\n",
    "Tbuffer_solution = Tbuffer.value\n",
    "\n",
    "evaluate_solution(Qprod_solution, \"CVXPY - GLPK\")\n"
   ]
  },
  {
   "cell_type": "code",
   "execution_count": 1,
   "metadata": {},
   "outputs": [
    {
     "name": "stdout",
     "output_type": "stream",
     "text": [
      "(CVXPY) Mar 20 12:09:29 PM: Encountered unexpected exception importing solver GLOP:\n",
      "RuntimeError('Unrecognized new version of ortools (9.11.4210). Expected < 9.10.0. Please open a feature request on cvxpy to enable support for this version.')\n",
      "(CVXPY) Mar 20 12:09:29 PM: Encountered unexpected exception importing solver PDLP:\n",
      "RuntimeError('Unrecognized new version of ortools (9.11.4210). Expected < 9.10.0. Please open a feature request on cvxpy to enable support for this version.')\n"
     ]
    }
   ],
   "source": [
    "import cvxpy as cp  \n"
   ]
  },
  {
   "cell_type": "code",
   "execution_count": 2,
   "metadata": {},
   "outputs": [
    {
     "name": "stdout",
     "output_type": "stream",
     "text": [
      "Ellipsis\n"
     ]
    }
   ],
   "source": [
    "cp = ...\n",
    "print(cp)"
   ]
  },
  {
   "cell_type": "code",
   "execution_count": null,
   "metadata": {},
   "outputs": [
    {
     "ename": "NameError",
     "evalue": "name 'n' is not defined",
     "output_type": "error",
     "traceback": [
      "\u001b[1;31m---------------------------------------------------------------------------\u001b[0m",
      "\u001b[1;31mNameError\u001b[0m                                 Traceback (most recent call last)",
      "Cell \u001b[1;32mIn[4], line 2\u001b[0m\n\u001b[0;32m      1\u001b[0m \u001b[38;5;28;01mimport\u001b[39;00m \u001b[38;5;21;01mcvxpy\u001b[39;00m \u001b[38;5;28;01mas\u001b[39;00m \u001b[38;5;21;01mcvxp\u001b[39;00m  \u001b[38;5;66;03m# Rename the import\u001b[39;00m\n\u001b[1;32m----> 2\u001b[0m qprod \u001b[38;5;241m=\u001b[39m cvxp\u001b[38;5;241m.\u001b[39mVariable(\u001b[43mn\u001b[49m, nonneg\u001b[38;5;241m=\u001b[39m\u001b[38;5;28;01mTrue\u001b[39;00m)  \u001b[38;5;66;03m# Now it works\u001b[39;00m\n",
      "\u001b[1;31mNameError\u001b[0m: name 'n' is not defined"
     ]
    }
   ],
   "source": [
    "import cvxpy as cvxp  # Rename the import\n",
    "qprod = cvxp.Variable(n, nonneg=True)  # Now it works\n"
   ]
  },
  {
   "cell_type": "markdown",
   "metadata": {},
   "source": [
    "## i m not abel to solve this flot vaule \n"
   ]
  },
  {
   "cell_type": "code",
   "execution_count": null,
   "metadata": {},
   "outputs": [
    {
     "ename": "AttributeError",
     "evalue": "'float' object has no attribute 'Variable'",
     "output_type": "error",
     "traceback": [
      "\u001b[1;31m---------------------------------------------------------------------------\u001b[0m",
      "\u001b[1;31mAttributeError\u001b[0m                            Traceback (most recent call last)",
      "Cell \u001b[1;32mIn[5], line 20\u001b[0m\n\u001b[0;32m     17\u001b[0m n \u001b[38;5;241m=\u001b[39m p\u001b[38;5;241m.\u001b[39msize\n\u001b[0;32m     19\u001b[0m \u001b[38;5;66;03m# Define variables\u001b[39;00m\n\u001b[1;32m---> 20\u001b[0m qprod \u001b[38;5;241m=\u001b[39m \u001b[43mcp\u001b[49m\u001b[38;5;241;43m.\u001b[39;49m\u001b[43mVariable\u001b[49m(n, nonneg\u001b[38;5;241m=\u001b[39m\u001b[38;5;28;01mTrue\u001b[39;00m)  \u001b[38;5;66;03m# \u001b[39;00m\n\u001b[0;32m     21\u001b[0m tbuffer \u001b[38;5;241m=\u001b[39m cp\u001b[38;5;241m.\u001b[39mVariable(n)\n\u001b[0;32m     23\u001b[0m \u001b[38;5;66;03m# Cost coefficients\u001b[39;00m\n",
      "\u001b[1;31mAttributeError\u001b[0m: 'float' object has no attribute 'Variable'"
     ]
    }
   ],
   "source": [
    "import numpy as np\n",
    "import pandas as pd\n",
    "import matplotlib.pyplot as plt\n",
    "import cvxpy as cp  # t\n",
    "import time\n",
    "from BasicDefinitions import *\n",
    "\n",
    "# Load data\n",
    "df = pd.read_csv(\"YearHourly.csv\", header=None, index_col=0)\n",
    "df.columns = [\"Tout\", \"Qhouse\", \"Price el.\"]\n",
    "df.index.name = \"Time\"\n",
    "\n",
    "tout = df[\"Tout\"].to_numpy()\n",
    "tflow = fTflow(tout)\n",
    "qhouse = df[\"Qhouse\"].to_numpy()\n",
    "p = df[\"Price el.\"].to_numpy()\n",
    "n = p.size\n",
    "\n",
    "# Define variables\n",
    "qprod = cp.Variable(n, nonneg=True)  # \n",
    "tbuffer = cp.Variable(n)\n",
    "\n",
    "# Cost coefficients\n",
    "a = 3\n",
    "cel = p / CoP(tout, tflow)\n",
    "cte = p / CoP(tout, tflow + 1) - p / CoP(tout, tflow)\n",
    "\n",
    "# Objective function\n",
    "objective = cp.Minimize(cp.sum(cel @ qprod + a * cp.sum(cte * (tbuffer - tflow))))\n",
    "\n",
    "# Constraints\n",
    "constraints = []\n",
    "E = np.eye(n)\n",
    "S = np.tril(np.ones_like(E), 0)\n",
    "C = 4.2 * 500 / 3600  # Buffer tank heat capacity in kWh/K\n",
    "Tinit = 30\n",
    "M = S / C\n",
    "r = Tinit - np.matmul(S, qhouse) / C\n",
    "\n",
    "for i in range(n):\n",
    "    constraints.append(tbuffer[i] >= tflow[i])\n",
    "    constraints.append(tbuffer[i] <= Tmax)\n",
    "    constraints.append(-cp.sum(S[i, :] / C * qprod) + tbuffer[i] == r[i])\n",
    "constraints.append(cp.sum(qprod) >= qhouse.sum())\n",
    "\n",
    "# Solve problem\n",
    "problem = cp.Problem(objective, constraints)\n",
    "start = time.time()\n",
    "problem.solve(solver=cp.GLPK)  # \n",
    "end = time.time()\n",
    "\n",
    "# Extract solution\n",
    "qprod_opt = qprod.value\n",
    "\n",
    "# Output results\n",
    "print(f\"Runtime linear solver: {end - start:.2f} s\")\n",
    "print(f\"Optimal total cost (with temperature costs): {problem.value:.2f} €\")\n",
    "costs_excluding_temperature = np.sum(cel * qprod_opt)\n",
    "print(f\"Costs excluding temperature costs: {costs_excluding_temperature:.2f} €\")\n",
    "\n",
    "# Visualization\n",
    "plt.figure(figsize=(12, 6))\n",
    "plt.plot(range(n), qprod_opt, marker='o', linestyle='-', color='b', label='Optimized Qprod')\n",
    "plt.axhline(y=np.mean(qprod_opt), color='r', linestyle='--', label='Mean Qprod')\n",
    "plt.xlabel(\"Time Step\")\n",
    "plt.ylabel(\"Optimized Qprod\")\n",
    "plt.title(\"Optimization Results Over Time - CVXPY\")\n",
    "plt.legend()\n",
    "plt.grid()\n",
    "plt.show()\n"
   ]
  },
  {
   "cell_type": "code",
   "execution_count": null,
   "metadata": {},
   "outputs": [],
   "source": []
  }
 ],
 "metadata": {
  "kernelspec": {
   "display_name": "Python 3",
   "language": "python",
   "name": "python3"
  },
  "language_info": {
   "codemirror_mode": {
    "name": "ipython",
    "version": 3
   },
   "file_extension": ".py",
   "mimetype": "text/x-python",
   "name": "python",
   "nbconvert_exporter": "python",
   "pygments_lexer": "ipython3",
   "version": "3.11.9"
  }
 },
 "nbformat": 4,
 "nbformat_minor": 2
}
