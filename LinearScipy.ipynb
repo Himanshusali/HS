{
 "cells": [
  {
   "cell_type": "markdown",
   "metadata": {},
   "source": [
    "# Linearized Optimization for Heat Pumps with Buffer Tank - Assign additional costs according to buffer tank temperature - Calculate costs for the complete year\n",
    "See article for further details.\n",
    "\n",
    "Dispatch optimization of heat pump and buffer tank calculating buffer tank temperature, but the CoP depends only on the pre calculated flow temperature.\n",
    "\n",
    "Copyright, 2024, Mathias Moog, Hochschule Ansbach, Deutschland, CC-BY-NC-SA\n"
   ]
  },
  {
   "cell_type": "markdown",
   "metadata": {},
   "source": [
    "## Load Modules, Data and Basic Definitions"
   ]
  },
  {
   "cell_type": "code",
   "execution_count": 1,
   "metadata": {},
   "outputs": [],
   "source": [
    "import pandas as pd\n",
    "import numpy as np \n",
    "import matplotlib.pyplot as plt\n",
    "from scipy import optimize\n",
    "import time\n",
    "# Import everythin vrom BasicDefintions.py\n",
    "from BasicDefinitions import *"
   ]
  },
  {
   "cell_type": "markdown",
   "metadata": {},
   "source": [
    "## Load a complete year and overwrite the global variables\n"
   ]
  },
  {
   "cell_type": "code",
   "execution_count": 2,
   "metadata": {},
   "outputs": [
    {
     "name": "stdout",
     "output_type": "stream",
     "text": [
      "<class 'pandas.core.frame.DataFrame'>\n",
      "Index: 8760 entries, 2021-01-01 00:00:00 to 2021-12-31 23:00:00\n",
      "Data columns (total 3 columns):\n",
      " #   Column     Non-Null Count  Dtype  \n",
      "---  ------     --------------  -----  \n",
      " 0   Tout       8760 non-null   float64\n",
      " 1   Qhouse     8760 non-null   float64\n",
      " 2   Price el.  8760 non-null   float64\n",
      "dtypes: float64(3)\n",
      "memory usage: 273.8+ KB\n"
     ]
    }
   ],
   "source": [
    "# Read Data file - one year\n",
    "df = pd.read_csv( \"YearHourly.csv\", header=None, index_col=0)\n",
    "df.columns=[\"Tout\",\"Qhouse\",\"Price el.\"]\n",
    "# Vergabe eines Names für die Index Spalte\n",
    "df.index.name=\"Time\"\n",
    "# Zeige die ersten Zeilen an\n",
    "#df.head()\n",
    "# Show column and data type information\n",
    "df.info()\n",
    "# Overview plot\n",
    "#df.plot()"
   ]
  },
  {
   "cell_type": "code",
   "execution_count": 3,
   "metadata": {},
   "outputs": [],
   "source": [
    "Tout = df[\"Tout\"].to_numpy()\n",
    "Tflow = fTflow(Tout)\n",
    "Qhouse = df[\"Qhouse\"].to_numpy()\n",
    "p = df[\"Price el.\"].to_numpy()\n",
    "n = p.size"
   ]
  },
  {
   "cell_type": "markdown",
   "metadata": {},
   "source": [
    "## Set up the linear problem using numyp\n",
    "\n",
    "It looks a bit more complicated than the Octave code since lots of mathematical operations are needed and the bounds data structure (List of sequences) is not direct compatible with numpy arrays."
   ]
  },
  {
   "cell_type": "code",
   "execution_count": 1,
   "metadata": {},
   "outputs": [
    {
     "ename": "NameError",
     "evalue": "name 'np' is not defined",
     "output_type": "error",
     "traceback": [
      "\u001b[1;31m---------------------------------------------------------------------------\u001b[0m",
      "\u001b[1;31mNameError\u001b[0m                                 Traceback (most recent call last)",
      "Cell \u001b[1;32mIn[1], line 2\u001b[0m\n\u001b[0;32m      1\u001b[0m \u001b[38;5;66;03m# Elemenatary matrices, like in Octave BasicDefinitions.m\u001b[39;00m\n\u001b[1;32m----> 2\u001b[0m E \u001b[38;5;241m=\u001b[39m \u001b[43mnp\u001b[49m\u001b[38;5;241m.\u001b[39meye(n)\n\u001b[0;32m      3\u001b[0m Z \u001b[38;5;241m=\u001b[39m np\u001b[38;5;241m.\u001b[39mzeros_like(E)\n\u001b[0;32m      4\u001b[0m S \u001b[38;5;241m=\u001b[39m np\u001b[38;5;241m.\u001b[39mtril(np\u001b[38;5;241m.\u001b[39mones_like(E),\u001b[38;5;241m0\u001b[39m)\n",
      "\u001b[1;31mNameError\u001b[0m: name 'np' is not defined"
     ]
    }
   ],
   "source": [
    "# Elemenatary matrices, like in Octave BasicDefinitions.m\n",
    "E = np.eye(n)\n",
    "Z = np.zeros_like(E)\n",
    "S = np.tril(np.ones_like(E),0)\n",
    "# Matrices for the linear problem, see report\n",
    "# In numpy matmul or dot are needed, the * is not the matrix multiplication from linear algebra!\n",
    "M = S/C \n",
    "r = Tinit - np.matmul(S,Qhouse)/C\n",
    "# Equality constraint for calculating Tbuffer\n",
    "AE = np.hstack((-M, E)) \n",
    "bE = r\n",
    "# Produce enough energy\n",
    "# Invert sign for lower bound , there's no lower bound A x >= b, only an upper bount A x <= b\n",
    "A_up = -np.hstack( (np.ones(shape=(1,n)),np.zeros(shape=(1,n)) ) )\n",
    "b_up = -Qhouse.sum()\n",
    "# cost vector \n",
    "a=3\n",
    "cel = p / CoP(Tout,Tflow)\n",
    "cte = p/CoP(Tout,Tflow+1)-p/CoP(Tout,Tflow)\n",
    "c = np.hstack( (cel,a*cte))\n",
    "# Bounds, x in [0,1], Tbuffer in [Tflow,Tmax]\n",
    "bounds = [(0,Pth)]*n +  [ (Tflow[i].item(),Tmax) for i in range(n)] \n"
   ]
  },
  {
   "cell_type": "code",
   "execution_count": 2,
   "metadata": {},
   "outputs": [
    {
     "ename": "NameError",
     "evalue": "name 'cel' is not defined",
     "output_type": "error",
     "traceback": [
      "\u001b[1;31m---------------------------------------------------------------------------\u001b[0m",
      "\u001b[1;31mNameError\u001b[0m                                 Traceback (most recent call last)",
      "Cell \u001b[1;32mIn[2], line 2\u001b[0m\n\u001b[0;32m      1\u001b[0m \u001b[38;5;66;03m# Reference Costs, demand driven solution\u001b[39;00m\n\u001b[1;32m----> 2\u001b[0m \u001b[38;5;28mprint\u001b[39m(\u001b[38;5;124mf\u001b[39m\u001b[38;5;124m\"\u001b[39m\u001b[38;5;124mCosts demand driven solution \u001b[39m\u001b[38;5;132;01m{\u001b[39;00m\u001b[43mcel\u001b[49m\u001b[38;5;241m.\u001b[39mdot(Qhouse)\u001b[38;5;132;01m:\u001b[39;00m\u001b[38;5;124m.2f\u001b[39m\u001b[38;5;132;01m}\u001b[39;00m\u001b[38;5;124m €\u001b[39m\u001b[38;5;124m\"\u001b[39m)\n",
      "\u001b[1;31mNameError\u001b[0m: name 'cel' is not defined"
     ]
    }
   ],
   "source": [
    "# Reference Costs, demand driven solution\n",
    "print(f\"Costs demand driven solution {cel.dot(Qhouse):.2f} €\")"
   ]
  },
  {
   "cell_type": "markdown",
   "metadata": {},
   "source": [
    "## Run linear solver\n",
    "Use scipy.optimize.linprog \n",
    "\n",
    "Be aware, that this linear solver takes equality constraints and upper limits separately. Lower limits are not supported! See above trick: Multiply with -1"
   ]
  },
  {
   "cell_type": "code",
   "execution_count": 11,
   "metadata": {},
   "outputs": [
    {
     "name": "stdout",
     "output_type": "stream",
     "text": [
      "Runtime linear solver 528.30 s\n",
      "Costs including temperature costs 1798.33 €\n",
      "Costs excluding temperature costs 705.31 €\n"
     ]
    },
    {
     "data": {
      "text/plain": [
       "        message: Optimization terminated successfully. (HiGHS Status 7: Optimal)\n",
       "        success: True\n",
       "         status: 0\n",
       "            fun: 1798.3271310114521\n",
       "              x: [ 1.113e+00  5.375e-02 ...  2.989e+01  3.000e+01]\n",
       "            nit: 9949\n",
       "          lower:  residual: [ 1.113e+00  5.375e-02 ...  0.000e+00\n",
       "                              2.109e-01]\n",
       "                 marginals: [ 0.000e+00  0.000e+00 ...  6.657e-03\n",
       "                              0.000e+00]\n",
       "          upper:  residual: [ 1.089e+01  1.195e+01 ...  3.011e+01\n",
       "                              3.000e+01]\n",
       "                 marginals: [ 0.000e+00  0.000e+00 ...  0.000e+00\n",
       "                              0.000e+00]\n",
       "          eqlin:  residual: [ 0.000e+00  0.000e+00 ...  0.000e+00\n",
       "                              0.000e+00]\n",
       "                 marginals: [ 8.412e-06  1.174e-03 ... -6.352e-04\n",
       "                              6.034e-03]\n",
       "        ineqlin:  residual: [ 0.000e+00]\n",
       "                 marginals: [-5.623e-02]\n",
       " mip_node_count: 0\n",
       " mip_dual_bound: 0.0\n",
       "        mip_gap: 0.0"
      ]
     },
     "execution_count": 11,
     "metadata": {},
     "output_type": "execute_result"
    }
   ],
   "source": [
    "start = time.time() # start time measurement\n",
    "# run solver\n",
    "opt = optimize.linprog(c=c, A_ub=A_up, b_ub=b_up, A_eq=AE, b_eq=bE, bounds=bounds)\n",
    "end = time.time() # stop time measurement\n",
    "# Print runtime\n",
    "print(f\"Runtime linear solver { end - start:.2f} s\")\n",
    "# Extract data for later use\n",
    "Qprod = opt.x[0:n]\n",
    "# Summary\n",
    "print(f\"Costs including temperature costs {opt.fun:.2f} €\")\n",
    "print(f\"Costs excluding temperature costs {cel.dot(Qprod):.2f} €\")\n",
    "# show complete result\n",
    "opt"
   ]
  },
  {
   "cell_type": "code",
   "execution_count": 7,
   "metadata": {},
   "outputs": [
    {
     "data": {
      "text/plain": [
       "       message: The problem is infeasible. (HiGHS Status 8: model_status is Infeasible; primal_status is None)\n",
       "       success: False\n",
       "        status: 2\n",
       "           fun: None\n",
       "             x: None\n",
       "           nit: 0\n",
       "         lower:  residual: None\n",
       "                marginals: None\n",
       "         upper:  residual: None\n",
       "                marginals: None\n",
       "         eqlin:  residual: None\n",
       "                marginals: None\n",
       "       ineqlin:  residual: None\n",
       "                marginals: None"
      ]
     },
     "execution_count": 7,
     "metadata": {},
     "output_type": "execute_result"
    }
   ],
   "source": [
    "opt\n"
   ]
  },
  {
   "cell_type": "code",
   "execution_count": null,
   "metadata": {},
   "outputs": [],
   "source": []
  }
 ],
 "metadata": {
  "kernelspec": {
   "display_name": "Python 3",
   "language": "python",
   "name": "python3"
  },
  "language_info": {
   "codemirror_mode": {
    "name": "ipython",
    "version": 3
   },
   "file_extension": ".py",
   "mimetype": "text/x-python",
   "name": "python",
   "nbconvert_exporter": "python",
   "pygments_lexer": "ipython3",
   "version": "3.11.9"
  }
 },
 "nbformat": 4,
 "nbformat_minor": 2
}
